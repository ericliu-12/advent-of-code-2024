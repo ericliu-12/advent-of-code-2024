{
 "cells": [
  {
   "cell_type": "code",
   "execution_count": null,
   "metadata": {},
   "outputs": [
    {
     "name": "stdout",
     "output_type": "stream",
     "text": [
      "1660292\n"
     ]
    }
   ],
   "source": [
    "list1, list2 = [], []\n",
    "answer = 0\n",
    "with open(\"data.txt\", \"r\") as file:\n",
    "    for line in file:\n",
    "        line = line.strip()\n",
    "        data = line.split()\n",
    "        list1.append(int(data[0]))\n",
    "        list2.append(int(data[1]))\n",
    "list1.sort()\n",
    "list2.sort()\n",
    "for i in range(len(list1)):\n",
    "    answer += abs(list1[i] - list2[i])\n",
    "print(answer)"
   ]
  }
 ],
 "metadata": {
  "kernelspec": {
   "display_name": "Python 3",
   "language": "python",
   "name": "python3"
  },
  "language_info": {
   "codemirror_mode": {
    "name": "ipython",
    "version": 3
   },
   "file_extension": ".py",
   "mimetype": "text/x-python",
   "name": "python",
   "nbconvert_exporter": "python",
   "pygments_lexer": "ipython3",
   "version": "3.12.0"
  }
 },
 "nbformat": 4,
 "nbformat_minor": 2
}
