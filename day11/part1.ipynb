{
 "cells": [
  {
   "cell_type": "code",
   "execution_count": 19,
   "metadata": {},
   "outputs": [
    {
     "name": "stdout",
     "output_type": "stream",
     "text": [
      "186175\n"
     ]
    }
   ],
   "source": [
    "with open(\"data.txt\") as file:\n",
    "    stones = [i for i in file.read().split()]\n",
    "\n",
    "for i in range(25):\n",
    "    diff = 0\n",
    "    for j in range(len(stones)):\n",
    "        j += diff\n",
    "        if stones[j] == \"0\":\n",
    "            stones[j] = \"1\"\n",
    "        elif len(stones[j]) % 2 == 0:\n",
    "            left, right = stones[j][:len(stones[j]) // 2], stones[j][len(stones[j]) // 2:]\n",
    "            stones[j] = left\n",
    "            stones.insert(j+1, str(int(right)))\n",
    "            diff += 1\n",
    "        else:\n",
    "            stones[j] = str(int(stones[j]) * 2024)\n",
    "\n",
    "print(len(stones))"
   ]
  }
 ],
 "metadata": {
  "kernelspec": {
   "display_name": "Python 3",
   "language": "python",
   "name": "python3"
  },
  "language_info": {
   "codemirror_mode": {
    "name": "ipython",
    "version": 3
   },
   "file_extension": ".py",
   "mimetype": "text/x-python",
   "name": "python",
   "nbconvert_exporter": "python",
   "pygments_lexer": "ipython3",
   "version": "3.12.0"
  }
 },
 "nbformat": 4,
 "nbformat_minor": 2
}
