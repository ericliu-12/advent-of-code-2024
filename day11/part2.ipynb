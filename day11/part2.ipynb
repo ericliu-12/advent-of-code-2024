{
 "cells": [
  {
   "cell_type": "code",
   "execution_count": 3,
   "metadata": {},
   "outputs": [
    {
     "name": "stdout",
     "output_type": "stream",
     "text": [
      "220566831337810\n"
     ]
    }
   ],
   "source": [
    "from collections import defaultdict\n",
    "\n",
    "with open(\"data.txt\") as file:\n",
    "    stones = defaultdict(int)\n",
    "    for stone in file.read().split():\n",
    "        stones[int(stone)] += 1\n",
    "\n",
    "for i in range(75):\n",
    "    new_stones = defaultdict(int)\n",
    "    for stone, count in stones.items():\n",
    "        if stone == 0:\n",
    "            new_stones[1] += count\n",
    "        elif len(str(stone)) % 2 == 0:\n",
    "            left, right = int(str(stone)[:len(str(stone)) // 2]), int(str(stone)[len(str(stone)) // 2:])\n",
    "            new_stones[left] += count\n",
    "            new_stones[right] += count\n",
    "        else:\n",
    "            new_stones[stone * 2024] += count\n",
    "    stones = new_stones\n",
    "\n",
    "total_stones = sum(stones.values())\n",
    "print(total_stones)\n"
   ]
  }
 ],
 "metadata": {
  "kernelspec": {
   "display_name": "Python 3",
   "language": "python",
   "name": "python3"
  },
  "language_info": {
   "codemirror_mode": {
    "name": "ipython",
    "version": 3
   },
   "file_extension": ".py",
   "mimetype": "text/x-python",
   "name": "python",
   "nbconvert_exporter": "python",
   "pygments_lexer": "ipython3",
   "version": "3.12.0"
  }
 },
 "nbformat": 4,
 "nbformat_minor": 2
}
