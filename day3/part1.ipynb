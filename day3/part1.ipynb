{
 "cells": [
  {
   "cell_type": "code",
   "execution_count": 67,
   "metadata": {},
   "outputs": [
    {
     "name": "stdout",
     "output_type": "stream",
     "text": [
      "188116424\n"
     ]
    },
    {
     "name": "stderr",
     "output_type": "stream",
     "text": [
      "<>:5: SyntaxWarning: invalid escape sequence '\\('\n",
      "<>:5: SyntaxWarning: invalid escape sequence '\\('\n",
      "/var/folders/89/xp6_0qwx2jl50bhhghx6sx_h0000gn/T/ipykernel_16803/757560928.py:5: SyntaxWarning: invalid escape sequence '\\('\n",
      "  correct = re.findall(\"mul\\([0-9]+,[0-9]+\\)\", content)\n"
     ]
    }
   ],
   "source": [
    "import re\n",
    "answer = 0\n",
    "with open(\"data.txt\") as file:\n",
    "    content = file.read()\n",
    "correct = re.findall(\"mul\\([0-9]+,[0-9]+\\)\", content)\n",
    "for fun in correct:\n",
    "    x, y = fun[4:-1].split(\",\")\n",
    "    answer += int(x) * int(y)\n",
    "print(answer)\n",
    "\n",
    "\n"
   ]
  }
 ],
 "metadata": {
  "kernelspec": {
   "display_name": "Python 3",
   "language": "python",
   "name": "python3"
  },
  "language_info": {
   "codemirror_mode": {
    "name": "ipython",
    "version": 3
   },
   "file_extension": ".py",
   "mimetype": "text/x-python",
   "name": "python",
   "nbconvert_exporter": "python",
   "pygments_lexer": "ipython3",
   "version": "3.12.0"
  }
 },
 "nbformat": 4,
 "nbformat_minor": 2
}
