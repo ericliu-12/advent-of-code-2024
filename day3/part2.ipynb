{
 "cells": [
  {
   "cell_type": "code",
   "execution_count": null,
   "metadata": {},
   "outputs": [
    {
     "name": "stdout",
     "output_type": "stream",
     "text": [
      "!mul(417,528)why();what()?how()from()who()where() ~mul(215,18){} ])/from()*do(),)* ##select()mul(89,59):*select(805,600)*mul(709,138)-!how()$+*why(747,290)>mul(548,826)^@-^%@,@mul(103,952)^why():mul(322,877)select()+who()%?[mul(378,598)<;[&(-*' mul(695,169)??where()mul(12,677){$?:(}*why()mul(911,924) *+/select()*/?,from(952,471)mul(12,238)<why()#<: mul(17,995)+:]mul(619,259)+$,#(mul(477,46)?-why())(?''mul(471,687)why()%why()select()mul(683,261)select()+&how()!mul(59,43);!}from()}^what()<mul(396,135)when()mul(593,130);[/mul(189,802)-where())how()where()%mul(315,986)&$?]::who()+who()mul(408,692)mul(547,681)~}mul(748,448)mul(686,701)#^*:,mul(14,551)who()who(899,635))/!from()mul(405,549)how()(;$where()select()&&why())mul(639,826)^(?do()}mul(87,111)),:select()mul(891,433)>mul(87,681)]mul(753,736)mul(469,856)@why()}{mul(51,85)why()'@: :,[*do()how()!$[who()mul(877,991)$:'}select()!mul(127,485),}%@,do()@ #{&(select();mul(41,26)}who()!why()^mul(780,997)mul(155,624)/?!, mul(181,7)@?%how()mul(742,580)>(&what()mul(370,366)#[[from()<mul(943,740)mul(811,357)[?<mul(680,308)! #~%>]%where()how()mul(437,895)+@mul(556,541)what()select()(##mul(742,271)<#'select()}}+(%*do()select();>]from()>mul(495,834)(who()why()}^-~:mul(623,691){}where()]mul(755,380):{[ { ;&mul(496,505)*-@();>mul(447,864)select();who()mul(672,810)where()%^;mul(631,935)]do()*&what()mul{/who()where(502,158)select();>mul(332,237)%select();#%)<#mul(726,568)do()$how()mul(905,578)(where()';do()%mul(38,555)$% from(680,344))%~select()mul(62,626)mul(82who()! who()?$:$:,mul(653,287)^;mul(526,575)[/)%[>?>![mul(853,659)why()^ mul(60,505)mul(253,318)mul(933,174)~!why(514,940)how()from(),mul(572,64)who()who()mul(73,528)+who()>#/}$why()select()#mul(911,546who(8,112)]mul(319,153);&-+who()%what()when()select()-mul(84,761)&mul(84,908),!mul(218,854)+#do()who())][$how()how()%!mul(126,937)what()!;;when()from(648,848)mul(959,440)!from()why()!mul(335,779)where()mul(506,275))mul(580,934)::mul(488#@select(737,610)select()<?mul(805,687))}mul(879,331)when(),#}?mul(271};(select()(who()]!mul(626,848)/{?what()mul(487,73)- !!mul(828why():mul(326,987)mul(474,702)*what()},{';who()mul(681,921)(&%^mul(272,885*>$who()[@&<why()mul(435,273)/[({how()mul(401,885)%?mul(254,856)?#>]@do()'why(138,562),# what()]mul(713,202)<--,)where();{mul(233,873),,do()from(767,729)~>what()}mul(864,883)mul(361,638)how()mul(703,895)/;% ,mul(149,597)mul(788,875)^?{what()$&mul(569,626){'where())mulwhere()~from(921,224)/!,':mul(97,835) mul(446,114)$)(,&;who()}']mul(101,565)&*;&}]+mul(611,566)mul(650,460)from()?~-^<mul(281,492)how()+&~*mul(911,24)when()+when()mul~how()&mul(40,526){mul(93,202){mul(468,358)who(531,285)what()when()/when(){[^#mul(580,361why()@[@/(>who(523,336)do()where(961,22)mul;what()-;:;^&$>mul(710,177)mul(301,438)mul(315,413)@}~<mul(995why();*why()from()!why()select()~mul(749,607)where(599,945)why()}@%[:]mul(228,105)>when()what(451,582)what()where()*from()who()mul(458,465)what()mul(848,195)when()who(676,932)< }*mul(580,113)where(535,4)/-when()select()^why()when()mul(271,737)how()^( ;mul(31,415)?;mul(915,200)<+ where()>^mul(519,208){select(288,908)]where();*who()who()mul(9,52):mul(450,463)what()^>:<why()+mul(77,181)#how()when(),%/^'from()$mul)?>select()'mul(773,234)<from()$!(:]who()^what()mul(906,13)~:[mul(239,237),mul(734,867)when()]when(390,730)!@?mul(999,334)*>*!@>} :mul(764,767)who(),~select()#!:what()]mul(849,737)mul(112,47)&mul(942,605)what()from()mul(207,293)(how(938,318)&]]{'mul(400,524)>what(653,663)]who(481,311)%)(~,+mul(849,23)mul(535,809)where()how()^:? where()mul(688,711)-where()&, '-%<do()$&]select(),what()mul(495,74)mul(670,677)$& )@when()mul(640,132?mul(198,88){when();<mul(88,71)%{where()!{]$who()'[mul(413,732)why()[%mul(841(why(){!@,}select()how()^mul(946,282)who(){))[-what()where()~what()mul(944,603)#%mul(744,412)&,:/&mul(304,180)-'@when()!* !why()+mul(562,407)mul(905,787)~why()~^'mul(645,995)select(301,51)&:who()/how()}<#:mul(411,285)how()mul(642,222)when(898,715)when()mul(962,312)<~/how()from()/#!select(817,3)%mul(490,31)+;++mul(267,715)mul(404,883)}mul(673,274)<%mul(94,400)where()from()who()</>^*!mul(614,499)%):~$~%^do()-){%mul(75,117)<mul(681,47)mul(635,773)}>@why())~what()@,where()mul(514,255),mul(281,798)%?$/why()mul(468,659)why()select()!{why(){}mul(57,359)how()']how()select()}^>why():mul(568,428)when()from()*,(#mul(203,107)'@/$!what():where()^@mul(991,672) ;what(602,659)//mul(285,658)!~<@)/&+<%mul(361,464)@what()why()why()}^ *#mul(658,997)\n",
      "mul(874,358)'who()?>$!mul(664,429)$;#select()@-~why()<mul(586,336)?#$*~'mul(207,452)#( ;what(495,559)select(807,28)*when(909,934)what()mul(272,646)]+select()mul(201,520)@ #;~+from()mul(441,40){~do()]>-&+@mul(670,732)mul(250,629)*!why()how()why()^!where()mul(160,358)!@?-mul(340,875)select()select()select()why(390,853)++@<(mul(446,277)#how()#!mul(934,452):}@why(),mul(878,762):why(512,389)^select();/what()mul(734,359){$*,$mul(807,660)how()%where()^mul(863,221)do()^#mul(139,324)mul(657,162)select()^^$>(}]},mul(145,462)why()>who()}who(762,591)mul(455,843)/mul(450,804))when();:/ mul(718,128):%$~how()]#mul(855,492)mul(630,688)where()~/+how()}?>mul(946,971):mul(88,670)$-*@[/mul(193,928)why(){when()how()what()mul#[%why()from()}mul(776,879)'how(486,894)>?$^; &/mul(725,446)where(159,316) ]mul(135,955);when()when()+){@where()mul(545,478))mul(593,322)mul(996,385) 'when()]where()when()@{mul(116,9))/,who()#?()$why()mul(716,812)how()%mul(185,170)?who()]:(mul(489,880)-*mul(615,9)<>{who()+?~<'when()mulhow()($[!,}where()do()* why() why()%@mul(831,430);mul(884,837)$?how()</mul(571,10) what()%who(779,598)&->mul(971,593)@mul(11,968):*;]]%<+@who()do();'mul(195,287):select()what() '%;?>who()mul(829,334)^#$mul(691,485)select()*where()#(&{:(mul(67,42))<?*who()@mul(657,60)select()<[(from())>+mul(994,216),/;mul(573,201?&<mul(235,521) ?(-?mul(691,819)$&>?[%what()select()from()mul(923,522)<,mul(582,635)-{how()@^what()#]mul(540,272)&where()<$<]^mul(892,661)~-what()~)/+select()mul-/mul(395,677)-~) ^[mul(283,439)~[&%;!select()how()select()mul(306,827);$what();;mul(715,794){),do()what()![}why(805,995)mul(476,619)>)+[?mul:[<}>-mul(558,189)what()mul(898,431)~*mul(272,96))@^# mul(114,12)when(855,691){%how()select(288,35)mul(140,45):*mul(618,246)?,*-how()+where(256,285)>'(mul(699,148)~who()mul(576,716)+where())how()mul(194,425)<}!,<?mul(286,203)/why()% select()+%mul(233,603){:$how()mul(218,435)mul(447,216)%[ #mul(914,779;)[mul(96,841)]# ]mul(593,92)?mul(33,813)'< select()!'who();mul(830,334);mul(737,927){^>]$$^why())mul(904,315)what()/mul(576,266)~!mul(760,106)*(who()#]'from()from()mul(238,430)mul(297,50)who()from(62,855)^why()^:who()~ &mul(508,388)<mul(677,789)+@mul(482,148)[*']-!select(843,281)mul(276,776)~]why() <!}^*mul(991,992),how()do()}$,~*&'when()#-mul(884,120)}]^mul(437,916))what())/~do()/; {+mul(110,879)%;#mul(423,374):how()how(142,360)why()*mul(700^~>mul(557,663)}when()mul(751,856)*~mul(504,359)}]@from()*$what():,mul(129,586)where())where(722,43)how()]<mul(178,57?what()!who():<)#{select()'mul(795,274){}%(^[>&&mul(616,487)+who()#^where()^/mul(197,217)when()how()how()#,[,from()^?mul(119,634)<from(634,43)*how()#(&mul(478,719)where()^!{,how()/]who()do()$%&~,select()select()how()mul(689,28)/+how()}mul(7,26)where()@)<why()?^#@$mul(962how()select()>+<mul(254,465)mul(381,367)<;mul(999,507)when()<how(),>when()who(643,73)mul(555,656)!why()mul(844,315):{/ ('<mul(56,743)when()?mul(687,63)!{^^!where()select()}~do()*:/%select(492,745)#*how()mul(103,86)&*#mulhow()mul(205,551)&//%$]why()-/where(63,224)mul(511,903)*$>*who()^%/mul(926,40)'mul(501,105)}~mul(810,253)[ $!^@#! why()mul(189,604) :[do()}when(616,671)why()/?how(){mul(949,622)]why()$;!why()!mul(895,650)#>/where()}$^?^mul(280,116)'{mul(118,570)*why():}mul(103,762)[(mul(602,859)&mul(637,550)!]where()}:<why()who()?@mul(137,536){<mul(345,803)]?select(180,130)?mul(648,629)where()select()-how()<what()}*;mul(722,259)}select()when()from()^select(130,800)do() /what()}select()$mul(643,998),&*)^mul(89,453/?/^<select()mul(488,727)' &; [what(993,543))mul{$do()who()/^~when()from(686,429){mul(382,707)~#where(87,54)^&mul(955,741)}$%&where()when(862,729)%mul(886,423)(^/when(){<>%(mul(661,868)^!select()?when(548,101)when()(mul(978,457)why()mul(421,976)how(714,794)mul(79,487)<*{[+[what()where(425,881)'mul(775,827):mul(260,742)^:~mul(614,982)[$(mulwhen()!%)&mul(271,715)()+;what()&) mul(722,687);*why()^'(,how()from()mul(934,463)-#mul(895,822)why()!];mul(879,833)[-;mul(750,443)':who()?;}why()##mul(214,657)why()+from()&$(mul(509,725)}$why()@when(822,113)!&'when()who()mul(911,719)[; mul(441,647)]<$:mul(714,781)%&@mul(506,291);why(52,660)(mul(471,954)mul(487,853)>*'mul(117,603)mul(26,939)@(^+select()why()select()where()mul(905,612){mul(479,266)how()**where()where()mul(451,254)(select()%{select()-@when() do()when()how()}how()how()mul{' how()&<>]mul(672,957)where()who()select()mul(460,110) -)mul(696,661)how()}how()how() &+do()]!$mul%)%when()}$*>^mul(276,105)~how();what()mul(634,101)who()]why();>$why()<why()mul(230,384)when()!&how()^where();mul(697,741]&#,#$$what(){+what()do()/%>when()how()where()why()(mul(446,844)what()?#;:$mul(539>+^why()!/mul(481,966)~+()#mul(657,897)\n",
      "^<when()where()mul(798,427)why()!#^@what()#mul(132$-mul(129,609) %/{],^*mul(529,605)]/%*~/mul(526,728)$}+/mul(353,423),select() how()select()*<^mul(715,873),when(713,88)from()who(446,829)mul(159,21-<)why()^mul(58,633)who(210,96)@select()[[select()who()?@mul(852,860)#{'+how(987,791)<<,+^mul(859,150)mul:when()what()',@~where()how()?,mul(940,144)from()@~^mul(108,347)how()]!(@[&{}where()mul(345,953)&who(717,992):%what()<mul(566{;>>}^!why()*mul(840,962)what();what(608,116) %?^mul(605,595)<[<?@<how()what()how()mul(309,38)/where()'-^/~%mul(578,371)@do(),@>from()(mul(599,814why()-how()~mul(680,773):+from()~do()#what()when()mul(858,458)(who()select()@;<do()^select())$^+)%mul(242,920);^*where()!?!;(#mul(654,14)who()%* ^~from()}mul(395,534)],~select())-%>when()mul(970,894)^ ?'+,where()where(966,268)</mul(155,986)when()}do()[>how()where()mul(605,722)mul(455,920)(->[[;]mul(977,500)!select()(>?mul(238,178)why()mul'#from()why(757,62)mul(200,544) mul(779,866)@+mul(998,603)#*>+<!mul(619,377);/:-*?mul(883,286)+$?do()what() }what()+>(from()from()mul(56,67)~(;select()what()!{do()/where()who()(mul(432,921)why()why(){who()$^mul(320,602)@#[~mul(285,293)(^@where()select()?;]&mul(542,971)}why()&mul(371,889)@ where()who()mul(143,526){from()select()when()+~where(){>mul(976,418) -where()-do()'[when()why()&(mul(945,948)when()@-how() ^!}mul(756,439);what()how()^mul(381,579)/mul(654,823)] $>%when()>-why()mul(448,211)^%mul(865,203)$&<mul(20,584)how();when(972,963)who():-*mul(231,591)-;why()+ @[#*@mul(259,982)^{@#why()@!*mul(913,11))?mul(374,405)%@&mul(732,168)'#;what(963,66)mul(243,963){when();^when()mul(367,361)<@[who(149,240)mul(86,56)/-{+>what()::- mul(536,351)-;mul(792,598)who(329,965)when()mul(669,121)~who()<;@ ~^*mul(382,343)mul(620,103)(<how()how(): mul(692,447)<where()mul(109,165)(,)'+(mul(83,788)when()<(how()?['#mul(3\n",
      "104145980\n"
     ]
    },
    {
     "name": "stderr",
     "output_type": "stream",
     "text": [
      "<>:15: SyntaxWarning: invalid escape sequence '\\('\n",
      "<>:15: SyntaxWarning: invalid escape sequence '\\('\n",
      "/var/folders/89/xp6_0qwx2jl50bhhghx6sx_h0000gn/T/ipykernel_37232/1975408712.py:15: SyntaxWarning: invalid escape sequence '\\('\n",
      "  correct = re.findall(\"mul\\([0-9]+,[0-9]+\\)\", filtered_content)\n"
     ]
    }
   ],
   "source": [
    "import re\n",
    "answer = 0\n",
    "with open(\"data.txt\") as file:\n",
    "    content = file.read()\n",
    "good = True\n",
    "filtered_content = \"\"\n",
    "for i in range(len(content)):\n",
    "    if good:\n",
    "        filtered_content += content[i]\n",
    "    if content[i:i+7] == \"don't()\":\n",
    "        good = False\n",
    "    elif content[i:i+4] == \"do()\":\n",
    "        good = True\n",
    "print(filtered_content)\n",
    "correct = re.findall(\"mul\\([0-9]+,[0-9]+\\)\", filtered_content)\n",
    "for fun in correct:\n",
    "    x, y = fun[4:-1].split(\",\")\n",
    "    answer += int(x) * int(y)\n",
    "print(answer)\n",
    "\n",
    "\n"
   ]
  }
 ],
 "metadata": {
  "kernelspec": {
   "display_name": "Python 3",
   "language": "python",
   "name": "python3"
  },
  "language_info": {
   "codemirror_mode": {
    "name": "ipython",
    "version": 3
   },
   "file_extension": ".py",
   "mimetype": "text/x-python",
   "name": "python",
   "nbconvert_exporter": "python",
   "pygments_lexer": "ipython3",
   "version": "3.12.0"
  }
 },
 "nbformat": 4,
 "nbformat_minor": 2
}
