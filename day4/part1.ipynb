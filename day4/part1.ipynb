{
 "cells": [
  {
   "cell_type": "code",
   "execution_count": null,
   "metadata": {},
   "outputs": [
    {
     "name": "stdout",
     "output_type": "stream",
     "text": [
      "5000\n"
     ]
    }
   ],
   "source": [
    "board = []\n",
    "answer = 0\n",
    "with open(\"data.txt\") as file:\n",
    "    for line in file:\n",
    "        board.append(list(line.strip()))\n",
    "rows, cols = len(board), len(board[0])\n",
    "for i in range(rows):\n",
    "    for j in range(cols):\n",
    "        directions = [[0, 1], [0, -1], [1, 0], [-1, 0], [1, 1], [1, -1], [-1, 1], [-1, -1]]\n",
    "        for direction in directions:\n",
    "            new_i, new_j = i + direction[0] * 3, j + direction[1] * 3\n",
    "            if new_i >= 0 and new_i < rows and new_j >= 0 and new_j < cols:\n",
    "                possible_word = board[i][j] + board[i + direction[0] * 1][j + direction[1] * 1] + board[i + direction[0] * 2][j + direction[1] * 2] + board[i + direction[0] * 3][j + direction[1] * 3]\n",
    "                if possible_word == \"XMAS\":\n",
    "                    answer += 1\n",
    "print(answer)\n"
   ]
  }
 ],
 "metadata": {
  "kernelspec": {
   "display_name": "Python 3",
   "language": "python",
   "name": "python3"
  },
  "language_info": {
   "codemirror_mode": {
    "name": "ipython",
    "version": 3
   },
   "file_extension": ".py",
   "mimetype": "text/x-python",
   "name": "python",
   "nbconvert_exporter": "python",
   "pygments_lexer": "ipython3",
   "version": "3.12.0"
  }
 },
 "nbformat": 4,
 "nbformat_minor": 2
}
