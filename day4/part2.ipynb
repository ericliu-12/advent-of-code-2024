{
 "cells": [
  {
   "cell_type": "code",
   "execution_count": null,
   "metadata": {},
   "outputs": [
    {
     "name": "stdout",
     "output_type": "stream",
     "text": [
      "1933\n"
     ]
    }
   ],
   "source": [
    "board = []\n",
    "answer = 0\n",
    "with open(\"data.txt\") as file:\n",
    "    for line in file:\n",
    "        board.append(list(line.strip()))\n",
    "rows, cols = len(board), len(board[0])\n",
    "for i in range(1, rows - 1):\n",
    "    for j in range(1, cols - 1):\n",
    "        if board[i][j] == \"A\":\n",
    "            possible_words = [board[i - 1][j - 1] + board[i][j] + board[i + 1][j+1], board[i-1][j+1] + board[i][j]+board[i+1][j-1]]\n",
    "            if all(word in [\"MAS\", \"SAM\"] for word in possible_words):\n",
    "                answer += 1\n",
    "print(answer)\n"
   ]
  }
 ],
 "metadata": {
  "kernelspec": {
   "display_name": "Python 3",
   "language": "python",
   "name": "python3"
  },
  "language_info": {
   "codemirror_mode": {
    "name": "ipython",
    "version": 3
   },
   "file_extension": ".py",
   "mimetype": "text/x-python",
   "name": "python",
   "nbconvert_exporter": "python",
   "pygments_lexer": "ipython3",
   "version": "3.12.0"
  }
 },
 "nbformat": 4,
 "nbformat_minor": 2
}
