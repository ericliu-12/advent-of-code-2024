{
 "cells": [
  {
   "cell_type": "code",
   "execution_count": null,
   "metadata": {},
   "outputs": [
    {
     "ename": "SyntaxError",
     "evalue": "unmatched ')' (2627204526.py, line 2)",
     "output_type": "error",
     "traceback": [
      "\u001b[0;36m  Cell \u001b[0;32mIn[21], line 2\u001b[0;36m\u001b[0m\n\u001b[0;31m    rules = defaultdict(set))\u001b[0m\n\u001b[0m                            ^\u001b[0m\n\u001b[0;31mSyntaxError\u001b[0m\u001b[0;31m:\u001b[0m unmatched ')'\n"
     ]
    }
   ],
   "source": [
    "from collections import defaultdict\n",
    "rules = defaultdict(set)\n",
    "updates = []\n",
    "answer = 0\n",
    "with open(\"data.txt\") as file:\n",
    "    flag = False\n",
    "    for line in file:\n",
    "        if line == \"\\n\":\n",
    "            flag = True\n",
    "        elif not flag:\n",
    "            line = [int(i) for i in line.strip().split(\"|\")]\n",
    "            if line[0] not in rules:\n",
    "                rules[line[0]] = set([line[1]])\n",
    "            else:\n",
    "                rules[line[0]].add(line[1])\n",
    "        else:\n",
    "            updates.append([int(i) for i in line.strip().split(\",\")])\n",
    "\n",
    "for update in updates:\n",
    "    visited = set()\n",
    "    flag = True\n",
    "    for i in range(1, len(update)):\n",
    "        if update[i-1] in rules[update[i]] and update[i-1] not in visited:\n",
    "            flag = False\n",
    "            break\n",
    "        visited.add(update[i-1])\n",
    "    if flag:\n",
    "        answer += update[len(update) // 2]\n",
    "\n",
    "print(answer)\n",
    "            \n"
   ]
  }
 ],
 "metadata": {
  "kernelspec": {
   "display_name": "Python 3",
   "language": "python",
   "name": "python3"
  },
  "language_info": {
   "codemirror_mode": {
    "name": "ipython",
    "version": 3
   },
   "file_extension": ".py",
   "mimetype": "text/x-python",
   "name": "python",
   "nbconvert_exporter": "python",
   "pygments_lexer": "ipython3",
   "version": "3.12.0"
  }
 },
 "nbformat": 4,
 "nbformat_minor": 2
}
