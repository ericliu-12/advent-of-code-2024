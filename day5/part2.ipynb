{
 "cells": [
  {
   "cell_type": "code",
   "execution_count": 14,
   "metadata": {},
   "outputs": [
    {
     "name": "stdout",
     "output_type": "stream",
     "text": [
      "5799\n"
     ]
    }
   ],
   "source": [
    "from collections import defaultdict, deque\n",
    "\n",
    "def topological_sort(update, rules):\n",
    "    in_degree = {page: 0 for page in update}\n",
    "    graph = defaultdict(list)\n",
    "    for x in update:\n",
    "        for y in rules[x]:\n",
    "            if y in update:\n",
    "                graph[x].append(y)\n",
    "                in_degree[y] += 1\n",
    "    queue = deque([node for node in update if in_degree[node] == 0])\n",
    "    sorted_update = []\n",
    "    while queue:\n",
    "        node = queue.popleft()\n",
    "        sorted_update.append(node)\n",
    "        for neighbor in graph[node]:\n",
    "            in_degree[neighbor] -= 1\n",
    "            if in_degree[neighbor] == 0:\n",
    "                queue.append(neighbor)\n",
    "    return sorted_update\n",
    "\n",
    "rules = defaultdict(set)\n",
    "updates = []\n",
    "answer = 0\n",
    "with open(\"data.txt\") as file:\n",
    "    flag = False\n",
    "    for line in file:\n",
    "        if line == \"\\n\":\n",
    "            flag = True\n",
    "        elif not flag:\n",
    "            line = [int(i) for i in line.strip().split(\"|\")]\n",
    "            if line[0] not in rules:\n",
    "                rules[line[0]] = set([line[1]])\n",
    "            else:\n",
    "                rules[line[0]].add(line[1])\n",
    "        else:\n",
    "            updates.append([int(i) for i in line.strip().split(\",\")])\n",
    "\n",
    "incorrect = []\n",
    "for update in updates:\n",
    "    visited = set()\n",
    "    for i in range(1, len(update)):\n",
    "        if update[i-1] in rules[update[i]] and update[i-1] not in visited:\n",
    "            incorrect.append(update)\n",
    "            break\n",
    "        visited.add(update[i-1])\n",
    "\n",
    "for update in incorrect:\n",
    "    update = topological_sort(update, rules)\n",
    "    answer += update[len(update) // 2]\n",
    "\n",
    "\n",
    "print(answer)\n",
    "            \n"
   ]
  },
  {
   "cell_type": "code",
   "execution_count": null,
   "metadata": {},
   "outputs": [],
   "source": []
  }
 ],
 "metadata": {
  "kernelspec": {
   "display_name": "Python 3",
   "language": "python",
   "name": "python3"
  },
  "language_info": {
   "codemirror_mode": {
    "name": "ipython",
    "version": 3
   },
   "file_extension": ".py",
   "mimetype": "text/x-python",
   "name": "python",
   "nbconvert_exporter": "python",
   "pygments_lexer": "ipython3",
   "version": "3.12.0"
  }
 },
 "nbformat": 4,
 "nbformat_minor": 2
}
