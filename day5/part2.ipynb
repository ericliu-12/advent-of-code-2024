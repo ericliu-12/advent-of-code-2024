{
 "cells": [
  {
   "cell_type": "code",
   "execution_count": null,
   "metadata": {},
   "outputs": [
    {
     "ename": "TypeError",
     "evalue": "unsupported operand type(s) for -=: 'int' and 'collections.deque'",
     "output_type": "error",
     "traceback": [
      "\u001b[0;31m---------------------------------------------------------------------------\u001b[0m",
      "\u001b[0;31mTypeError\u001b[0m                                 Traceback (most recent call last)",
      "Cell \u001b[0;32mIn[13], line 49\u001b[0m\n\u001b[1;32m     46\u001b[0m         visited\u001b[38;5;241m.\u001b[39madd(update[i\u001b[38;5;241m-\u001b[39m\u001b[38;5;241m1\u001b[39m])\n\u001b[1;32m     48\u001b[0m \u001b[38;5;28;01mfor\u001b[39;00m update \u001b[38;5;129;01min\u001b[39;00m incorrect:\n\u001b[0;32m---> 49\u001b[0m     update \u001b[38;5;241m=\u001b[39m \u001b[43mtopological_sort\u001b[49m\u001b[43m(\u001b[49m\u001b[43mupdate\u001b[49m\u001b[43m,\u001b[49m\u001b[43m \u001b[49m\u001b[43mrules\u001b[49m\u001b[43m)\u001b[49m\n\u001b[1;32m     50\u001b[0m     answer \u001b[38;5;241m+\u001b[39m\u001b[38;5;241m=\u001b[39m update[\u001b[38;5;28mlen\u001b[39m(update) \u001b[38;5;241m/\u001b[39m\u001b[38;5;241m/\u001b[39m \u001b[38;5;241m2\u001b[39m]\n\u001b[1;32m     53\u001b[0m \u001b[38;5;28mprint\u001b[39m(answer)\n",
      "Cell \u001b[0;32mIn[13], line 17\u001b[0m, in \u001b[0;36mtopological_sort\u001b[0;34m(update, rules)\u001b[0m\n\u001b[1;32m     15\u001b[0m sorted_update\u001b[38;5;241m.\u001b[39mappend(node)\n\u001b[1;32m     16\u001b[0m \u001b[38;5;28;01mfor\u001b[39;00m neighbor \u001b[38;5;129;01min\u001b[39;00m graph[node]:\n\u001b[0;32m---> 17\u001b[0m     \u001b[43min_degree\u001b[49m\u001b[43m[\u001b[49m\u001b[43mneighbor\u001b[49m\u001b[43m]\u001b[49m\u001b[43m \u001b[49m\u001b[38;5;241;43m-\u001b[39;49m\u001b[38;5;241;43m=\u001b[39;49m\u001b[43m \u001b[49m\u001b[43mqueue\u001b[49m\n\u001b[1;32m     18\u001b[0m     \u001b[38;5;28;01mif\u001b[39;00m in_degree[neighbor] \u001b[38;5;241m==\u001b[39m \u001b[38;5;241m0\u001b[39m:\n\u001b[1;32m     19\u001b[0m         queue\u001b[38;5;241m.\u001b[39mappend(neighbor)\n",
      "\u001b[0;31mTypeError\u001b[0m: unsupported operand type(s) for -=: 'int' and 'collections.deque'"
     ]
    }
   ],
   "source": [
    "from collections import defaultdict, deque\n",
    "\n",
    "def topological_sort(update, rules):\n",
    "    in_degree = {page: 0 for page in update}\n",
    "    graph = defaultdict(list)\n",
    "    for x in update:\n",
    "        for y in rules[x]:\n",
    "            if y in update:\n",
    "                graph[x].append(y)\n",
    "                in_degree[y] += 1\n",
    "    queue = deque([node for node in update if in_degree[node] == 0])\n",
    "    sorted_update = []\n",
    "    while queue:\n",
    "        node = queue.popleft()\n",
    "        sorted_update.append(node)\n",
    "        for neighbor in graph[node]:\n",
    "            in_degree[neighbor] -= 1\n",
    "            if in_degree[neighbor] == 0:\n",
    "                queue.append(neighbor)\n",
    "    return sorted_update\n",
    "\n",
    "rules = defaultdict(set)\n",
    "updates = []\n",
    "answer = 0\n",
    "with open(\"data.txt\") as file:\n",
    "    flag = False\n",
    "    for line in file:\n",
    "        if line == \"\\n\":\n",
    "            flag = True\n",
    "        elif not flag:\n",
    "            line = [int(i) for i in line.strip().split(\"|\")]\n",
    "            if line[0] not in rules:\n",
    "                rules[line[0]] = set([line[1]])\n",
    "            else:\n",
    "                rules[line[0]].add(line[1])\n",
    "        else:\n",
    "            updates.append([int(i) for i in line.strip().split(\",\")])\n",
    "\n",
    "incorrect = []\n",
    "for update in updates:\n",
    "    visited = set()\n",
    "    for i in range(1, len(update)):\n",
    "        if update[i-1] in rules[update[i]] and update[i-1] not in visited:\n",
    "            incorrect.append(update)\n",
    "            break\n",
    "        visited.add(update[i-1])\n",
    "\n",
    "for update in incorrect:\n",
    "    update = topological_sort(update, rules)\n",
    "    answer += update[len(update) // 2]\n",
    "\n",
    "\n",
    "print(answer)\n",
    "            \n"
   ]
  },
  {
   "cell_type": "code",
   "execution_count": null,
   "metadata": {},
   "outputs": [],
   "source": []
  }
 ],
 "metadata": {
  "kernelspec": {
   "display_name": "Python 3",
   "language": "python",
   "name": "python3"
  },
  "language_info": {
   "codemirror_mode": {
    "name": "ipython",
    "version": 3
   },
   "file_extension": ".py",
   "mimetype": "text/x-python",
   "name": "python",
   "nbconvert_exporter": "python",
   "pygments_lexer": "ipython3",
   "version": "3.12.0"
  }
 },
 "nbformat": 4,
 "nbformat_minor": 2
}
