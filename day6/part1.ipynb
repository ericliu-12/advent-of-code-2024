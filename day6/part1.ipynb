{
 "cells": [
  {
   "cell_type": "code",
   "execution_count": 10,
   "metadata": {},
   "outputs": [
    {
     "name": "stdout",
     "output_type": "stream",
     "text": [
      "5177\n"
     ]
    }
   ],
   "source": [
    "answer = 0\n",
    "board = []\n",
    "with open(\"data.txt\") as file:\n",
    "    for line in file:\n",
    "        board.append(list(line.strip()))\n",
    "rows, cols = len(board), len(board[0])\n",
    "visited = set()\n",
    "for i in range(len(board)):\n",
    "    for j in range(len(board[0])):\n",
    "        if board[i][j] == \"^\":\n",
    "            visited.add((i, j))\n",
    "            x, y = i, j\n",
    "            break\n",
    "curr_direction = \"^\"\n",
    "order = [\"^\", \">\", \"v\", \"<\"]\n",
    "direction = {\"^\": (-1, 0), \">\": (0, 1), \"v\": (1, 0), \"<\": (0, -1)}\n",
    "while True:\n",
    "    # print(next_x, next_y)\n",
    "    next_x, next_y = x + direction[curr_direction][0], y + direction[curr_direction][1]\n",
    "    if next_x < 0 or next_x >= rows or next_y < 0 or next_y >= cols:\n",
    "        break\n",
    "    elif board[next_x][next_y] == \"#\":\n",
    "        curr_direction = order[(order.index(curr_direction) + 1) % 4]\n",
    "    else:\n",
    "        x, y = next_x, next_y\n",
    "        visited.add((x, y))\n",
    "        \n",
    "print(len(visited))"
   ]
  }
 ],
 "metadata": {
  "kernelspec": {
   "display_name": "Python 3",
   "language": "python",
   "name": "python3"
  },
  "language_info": {
   "codemirror_mode": {
    "name": "ipython",
    "version": 3
   },
   "file_extension": ".py",
   "mimetype": "text/x-python",
   "name": "python",
   "nbconvert_exporter": "python",
   "pygments_lexer": "ipython3",
   "version": "3.12.0"
  }
 },
 "nbformat": 4,
 "nbformat_minor": 2
}
