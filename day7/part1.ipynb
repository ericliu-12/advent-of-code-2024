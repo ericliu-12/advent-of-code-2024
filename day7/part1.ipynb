{
 "cells": [
  {
   "cell_type": "code",
   "execution_count": null,
   "metadata": {},
   "outputs": [
    {
     "name": "stdout",
     "output_type": "stream",
     "text": [
      "8401132154762\n"
     ]
    }
   ],
   "source": [
    "import itertools\n",
    "answer = 0\n",
    "equations = []\n",
    "with open(\"data.txt\") as file:\n",
    "    for line in file:\n",
    "        equations.append([int(line[:line.index(\":\")])] + [int(i) for i in line[line.index(\":\")+1:].strip().split()])\n",
    "# print(equations)\n",
    "for equation in equations:\n",
    "    nums = equation[1:]\n",
    "    operators = [p for p in itertools.product([\"+\", \"*\", \"||\"], repeat=len(nums)-1)]\n",
    "    test_answer = equation[0]\n",
    "    for i in range(len(operators)):\n",
    "        temp_answer = nums[0]\n",
    "        for j in range(len(operators[0])):\n",
    "            operator = operators[i][j]\n",
    "            if operator == \"*\":\n",
    "                temp_answer *= nums[j+1]\n",
    "            elif operator == \"+\":\n",
    "                temp_answer += nums[j+1]\n",
    "            elif operator == \"||\":\n",
    "                temp_answer = int(str(temp_answer) + str(nums[j+1]))\n",
    "        if temp_answer == test_answer:\n",
    "            answer += test_answer\n",
    "            break\n",
    "print(answer)"
   ]
  },
  {
   "cell_type": "code",
   "execution_count": null,
   "metadata": {},
   "outputs": [],
   "source": []
  },
  {
   "cell_type": "code",
   "execution_count": null,
   "metadata": {},
   "outputs": [],
   "source": []
  },
  {
   "cell_type": "code",
   "execution_count": null,
   "metadata": {},
   "outputs": [],
   "source": []
  },
  {
   "cell_type": "code",
   "execution_count": null,
   "metadata": {},
   "outputs": [],
   "source": []
  },
  {
   "cell_type": "code",
   "execution_count": null,
   "metadata": {},
   "outputs": [],
   "source": []
  }
 ],
 "metadata": {
  "kernelspec": {
   "display_name": "Python 3",
   "language": "python",
   "name": "python3"
  },
  "language_info": {
   "codemirror_mode": {
    "name": "ipython",
    "version": 3
   },
   "file_extension": ".py",
   "mimetype": "text/x-python",
   "name": "python",
   "nbconvert_exporter": "python",
   "pygments_lexer": "ipython3",
   "version": "3.12.0"
  }
 },
 "nbformat": 4,
 "nbformat_minor": 2
}
