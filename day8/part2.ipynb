{
 "cells": [
  {
   "cell_type": "code",
   "execution_count": 3,
   "metadata": {},
   "outputs": [
    {
     "name": "stdout",
     "output_type": "stream",
     "text": [
      "34\n"
     ]
    }
   ],
   "source": [
    "from collections import defaultdict\n",
    "from itertools import combinations\n",
    "\n",
    "def inbounds(point, rows, cols):\n",
    "    if point[0] >= 0 and point[0] < rows and point[1] >=0 and point[1] < cols:\n",
    "        return True\n",
    "    return False\n",
    "\n",
    "def get_points(point1, point2, xd, yd, rows, cols):\n",
    "    points = []\n",
    "    while inbounds(point1, rows, cols):\n",
    "        points.append(point1)\n",
    "        point1 = (point1[0] - xd, point1[1] - yd)\n",
    "    while inbounds(point2, rows, cols):\n",
    "        points.append(point2)\n",
    "        point2 = (point2[0] + xd, point2[1] + yd)\n",
    "    return points\n",
    "\n",
    "visited = set()\n",
    "board = []\n",
    "antennas = defaultdict(list)\n",
    "with open(\"data.txt\") as file:\n",
    "    for line in file:\n",
    "        board.append(list(line.strip()))\n",
    "rows, cols = len(board), len(board[0])\n",
    "# print(board)\n",
    "# print(len(board), len(board[0]))\n",
    "for i in range(rows):\n",
    "    for j in range(cols):\n",
    "        if board[i][j].isalnum():\n",
    "            visited.add((i, j))\n",
    "            antennas[board[i][j]].append((i, j))\n",
    "\n",
    "for antenna in antennas.values():\n",
    "    combination_list = list(combinations(antenna, 2))\n",
    "    for combo in combination_list:\n",
    "        x1, y1, x2, y2 = combo[0][0], combo[0][1], combo[1][0], combo[1][1]\n",
    "        xd, yd = x2 - x1, y2 - y1\n",
    "        point1, point2 = (x1, y1), (x2, y2)\n",
    "        points = get_points(point1, point2, xd, yd, rows, cols)\n",
    "        visited.update(points)\n",
    "\n",
    "print(len(visited))"
   ]
  }
 ],
 "metadata": {
  "kernelspec": {
   "display_name": "Python 3",
   "language": "python",
   "name": "python3"
  },
  "language_info": {
   "codemirror_mode": {
    "name": "ipython",
    "version": 3
   },
   "file_extension": ".py",
   "mimetype": "text/x-python",
   "name": "python",
   "nbconvert_exporter": "python",
   "pygments_lexer": "ipython3",
   "version": "3.12.0"
  }
 },
 "nbformat": 4,
 "nbformat_minor": 2
}
