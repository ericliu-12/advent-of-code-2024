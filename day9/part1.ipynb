{
 "cells": [
  {
   "cell_type": "code",
   "execution_count": 33,
   "metadata": {},
   "outputs": [
    {
     "name": "stdout",
     "output_type": "stream",
     "text": [
      "6216544403458\n"
     ]
    }
   ],
   "source": [
    "answer = 0\n",
    "block = []\n",
    "id = 0\n",
    "with open(\"data.txt\") as file:\n",
    "    disk_map = list(file.read().strip())\n",
    "for i in range(len(disk_map)):\n",
    "    if i % 2 == 0:\n",
    "        for j in range(int(disk_map[i])):\n",
    "            block.append(str(id))\n",
    "        id += 1\n",
    "    else:\n",
    "        for j in range(int(disk_map[i])):\n",
    "            block += \".\"\n",
    "total_consecutive = sum(1 for num in block if num.isalnum())\n",
    "curr_consecutive = 0\n",
    "curr, last = 0, -1\n",
    "while True:\n",
    "    if block[curr].isalnum():\n",
    "        curr_consecutive += 1\n",
    "    else:\n",
    "        while True:\n",
    "            if block[last].isalnum():\n",
    "                block[curr] = block[last]\n",
    "                block[last] = \".\"\n",
    "                curr_consecutive += 1\n",
    "                break\n",
    "            else:\n",
    "                last -= 1\n",
    "    if curr_consecutive == total_consecutive:\n",
    "        break\n",
    "    curr +=1\n",
    "    \n",
    "for i, n in enumerate(block):\n",
    "    if n.isalnum():\n",
    "        answer += i * int(n)\n",
    "print(answer)"
   ]
  },
  {
   "cell_type": "code",
   "execution_count": null,
   "metadata": {},
   "outputs": [],
   "source": []
  },
  {
   "cell_type": "code",
   "execution_count": null,
   "metadata": {},
   "outputs": [],
   "source": []
  }
 ],
 "metadata": {
  "kernelspec": {
   "display_name": "Python 3",
   "language": "python",
   "name": "python3"
  },
  "language_info": {
   "codemirror_mode": {
    "name": "ipython",
    "version": 3
   },
   "file_extension": ".py",
   "mimetype": "text/x-python",
   "name": "python",
   "nbconvert_exporter": "python",
   "pygments_lexer": "ipython3",
   "version": "3.12.0"
  }
 },
 "nbformat": 4,
 "nbformat_minor": 2
}
