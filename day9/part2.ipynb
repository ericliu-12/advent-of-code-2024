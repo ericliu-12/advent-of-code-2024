{
 "cells": [
  {
   "cell_type": "code",
   "execution_count": 5,
   "metadata": {},
   "outputs": [
    {
     "name": "stdout",
     "output_type": "stream",
     "text": [
      "6237075041489\n"
     ]
    }
   ],
   "source": [
    "answer = 0\n",
    "block = []\n",
    "id = 0\n",
    "with open(\"data.txt\") as file:\n",
    "    disk_map = list(file.read().strip())\n",
    "for i in range(len(disk_map)):\n",
    "    if i % 2 == 0:\n",
    "        for j in range(int(disk_map[i])):\n",
    "            block.append(str(id))\n",
    "        id += 1\n",
    "    else:\n",
    "        for j in range(int(disk_map[i])):\n",
    "            block.append(\".\")\n",
    "# print(block.index(\"19\"))\n",
    "id -= 1\n",
    "\n",
    "def get_consecutive(n, block):\n",
    "    curr, start = block.index(n), block.index(n)\n",
    "    while curr < len(block):\n",
    "        if block[curr] != n:\n",
    "            break\n",
    "        curr += 1\n",
    "    return (start, curr)\n",
    "\n",
    "# print(id)\n",
    "\n",
    "for i in range(id, -1, -1):\n",
    "    indices = get_consecutive(str(i), block)\n",
    "    num_consecutive = indices[1] - indices[0]\n",
    "    try:\n",
    "        temp_block = [i if len(i) == 1 else i[0] for i in block]\n",
    "        string_block = \"\".join(temp_block)\n",
    "        potential_space = string_block.index(\".\" * num_consecutive)\n",
    "        if potential_space < indices[0]:\n",
    "            for j in range(num_consecutive):\n",
    "                block[potential_space] = str(i)\n",
    "                potential_space += 1\n",
    "            for k in range(indices[0], indices[1]):\n",
    "                block[k] = \".\"\n",
    "    except:\n",
    "        continue\n",
    "\n",
    "for i, n in enumerate(block):\n",
    "    if n.isalnum():\n",
    "        answer += i * int(n)\n",
    "print(answer)"
   ]
  },
  {
   "cell_type": "code",
   "execution_count": null,
   "metadata": {},
   "outputs": [],
   "source": []
  }
 ],
 "metadata": {
  "kernelspec": {
   "display_name": "Python 3",
   "language": "python",
   "name": "python3"
  },
  "language_info": {
   "codemirror_mode": {
    "name": "ipython",
    "version": 3
   },
   "file_extension": ".py",
   "mimetype": "text/x-python",
   "name": "python",
   "nbconvert_exporter": "python",
   "pygments_lexer": "ipython3",
   "version": "3.12.0"
  }
 },
 "nbformat": 4,
 "nbformat_minor": 2
}
